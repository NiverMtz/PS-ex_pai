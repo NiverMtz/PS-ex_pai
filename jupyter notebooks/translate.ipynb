{
 "cells": [
  {
   "cell_type": "markdown",
   "metadata": {},
   "source": [
    "# Un módulo para traducir archivos de texto"
   ]
  },
  {
   "cell_type": "markdown",
   "metadata": {},
   "source": [
    "En general las palicaciones de este módulo esperaba que fueran de mayor utilidad. Sin embargo, con el tiempo que me tomó centrar mi proyecto en algo que lograra salir adelate, ya no me permitió desarrollar más ciertos módulos."
   ]
  },
  {
   "cell_type": "code",
   "execution_count": 11,
   "metadata": {},
   "outputs": [
    {
     "name": "stdout",
     "output_type": "stream",
     "text": [
      "holy fuck... same here, in my country it was the most crucial from mid march to beginning of this month and tbh for these month and a half i havent felt so at peace in a VERY long time, no stress on future or finding for jobs since everything was basically frozen in time, there weren't people outside and i LOVED riding around my small town on a bike, just enjoying solitude for hours, so calm and peaceful idk how else to describe it an, it was so good without being nervous about future and not doing anything with my life since everyone is doing the same\n",
      "\n",
      "when i heard that they are going to ease up on this quarantine thing i felt sick the entire day i swear, i was so sad and defeated because they said in early april that maybe in july things will go to better, then out of the blue poof, 1st of may people swarmed the town like flies, barber shops, coffee shops, all these people being social, just enjoying depression free lifestyle and i'm constantly reminded how anti social i am\n",
      "\n",
      "i was always this nostalgic and sentimental person and i already miss what happened a month ago, i can no longer buy couple of beers and sit on my own in a park and drink it while listening to some g-funk and just chill there, i mean i can do it now too, but i hate everytiem i try and talk and maybe meet new people i always end up failing because im a 25 year old with a mentality of 18, plus im poor, no car or drivings license, no friends and even if i manage to talk to some cutie she will soon realize how pathetic i am\n",
      "Mierda ... aquí mismo, en mi país fue el más importante desde mediados de marzo a partir de este mes y TBH para estos meses y medio no he sentido tan en paz en un tiempo muy largo, sin estrés en el futuro o hallazgo de puestos de trabajo ya que todo estaba básicamente congelado en el tiempo, no había gente fuera y me encantaba montar a caballo alrededor de mi pequeña ciudad en una moto, simplemente disfrutar de la soledad durante horas, tan tranquilo y pacífico idk cómo más de describir una, que era tan bueno sin estar nervioso por el futuro y no hacer nada con mi vida porque todo el mundo está haciendo lo mismo\n",
      "\n",
      "Cuando supe que van a facilitar para arriba en esta cosa de cuarentena me sentí enferma todo el día lo juro, yo estaba tan triste y derrotada porque decían principios de abril que tal vez en julio cosas irán a mejor, a continuación, de la nada puf, primero de personas pueden invadieron la ciudad como moscas, peluquerías, cafeterías, todas estas personas ser social, simplemente disfrutar de la depresión estilo de vida libre y me recuerda constantemente la forma de lucha contra i am sociales\n",
      "\n",
      "Siempre estaba presente nostálgico y sentimental y yo ya se pierda lo que ocurrió hace un mes, puedo pareja ya no compra de cervezas y sentarse en mi propia en un parque y beber mientras se escucha g-funk y simplemente relajarse allí, i decir que puedo hacerlo ahora también, pero no me gusta everytiem i tratar de hablar y tal vez conocer gente nueva que siempre terminan fracasando porque soy un 25 años de edad con una mentalidad de 18, más im pobre, no hay coche o conducciones de licencia, no hay amigos e incluso si me las arreglo para hablar con alguna chica que pronto se dará cuenta de lo patético i am\n"
     ]
    }
   ],
   "source": [
    "from googletrans import Translator\n",
    "\n",
    "#Leer y convertir a cadena el archivo.\n",
    "file =  open('prueba2.txt','r')\n",
    "text = file.read()\n",
    "print(text)\n",
    "\n",
    "#Traducir el archivo\n",
    "translator = Translator()\n",
    "translated = translator.translate(text, src='en', dest='es')\n",
    "\n",
    "print(translated.text)\n",
    "\n",
    "file.close()"
   ]
  }
 ],
 "metadata": {
  "kernelspec": {
   "display_name": "Python 3",
   "language": "python",
   "name": "python3"
  },
  "language_info": {
   "codemirror_mode": {
    "name": "ipython",
    "version": 3
   },
   "file_extension": ".py",
   "mimetype": "text/x-python",
   "name": "python",
   "nbconvert_exporter": "python",
   "pygments_lexer": "ipython3",
   "version": "3.7.4"
  }
 },
 "nbformat": 4,
 "nbformat_minor": 2
}
