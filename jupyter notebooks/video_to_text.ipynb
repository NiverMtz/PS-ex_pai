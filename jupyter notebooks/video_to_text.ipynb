{
 "cells": [
  {
   "cell_type": "markdown",
   "metadata": {},
   "source": [
    "# ¿Y el audio que dice de nosostros?"
   ]
  },
  {
   "cell_type": "markdown",
   "metadata": {},
   "source": [
    "Si bien está implementación no permite precisamente que podamos interpretar la voz en tiempo real, lo que se pretende es analizar archivos de auido y con ello encontrar también los rasgos de personalidad que nos puedan ofrecer. Primero importamos un módulo que nos permita hacer el _speech to text_ tan conocido, esto lo hacemos con una librería porpia del lenguaje y que se integra muy bien además de tener intergaciones muy interesantes de módulos de google, ibm, entre otras."
   ]
  },
  {
   "cell_type": "code",
   "execution_count": 2,
   "metadata": {},
   "outputs": [],
   "source": [
    "import speech_recognition as sr"
   ]
  },
  {
   "cell_type": "code",
   "execution_count": 3,
   "metadata": {},
   "outputs": [],
   "source": [
    "r = sr.Recognizer() #instanciamos el reconocimiento"
   ]
  },
  {
   "cell_type": "code",
   "execution_count": 6,
   "metadata": {},
   "outputs": [],
   "source": [
    "aud = sr.AudioFile('RobinWilliams.wav') #cargamos el audio"
   ]
  },
  {
   "cell_type": "markdown",
   "metadata": {},
   "source": [
    "Y en esta parte nos preocupa cachar las excepciones de que el audio no se pueda leer:"
   ]
  },
  {
   "cell_type": "code",
   "execution_count": 5,
   "metadata": {},
   "outputs": [
    {
     "name": "stdout",
     "output_type": "stream",
     "text": [
      "Working on...\n",
      "oh my God Patton and but he's also kind of a quiet strength to even capturing his voice is very difficult but at the same time it has it has resident so\n"
     ]
    }
   ],
   "source": [
    "with aud as source:\n",
    "    audio = r.record(source, offset=10, duration=50)\n",
    "    try:\n",
    "        text = r.recognize_google(audio)\n",
    "        print('Working on...')\n",
    "        print(text)\n",
    "    except:\n",
    "        print('Sorry... run again...')"
   ]
  },
  {
   "cell_type": "code",
   "execution_count": 7,
   "metadata": {},
   "outputs": [],
   "source": [
    "with aud as source:\n",
    "    audio = r.record(source) # una versión menos cuidadosa de lo que tenemos arriba"
   ]
  },
  {
   "cell_type": "code",
   "execution_count": 8,
   "metadata": {},
   "outputs": [
    {
     "data": {
      "text/plain": [
       "speech_recognition.AudioData"
      ]
     },
     "execution_count": 8,
     "metadata": {},
     "output_type": "execute_result"
    }
   ],
   "source": [
    "type(audio) # comprobando la instancia"
   ]
  },
  {
   "cell_type": "code",
   "execution_count": 9,
   "metadata": {},
   "outputs": [
    {
     "data": {
      "text/plain": [
       "\"oh my God Patton and but he's also kind of a quiet strength to even capturing his voice is very difficult but at the same time it has it has resident so\""
      ]
     },
     "execution_count": 9,
     "metadata": {},
     "output_type": "execute_result"
    }
   ],
   "source": [
    "text"
   ]
  },
  {
   "cell_type": "markdown",
   "metadata": {},
   "source": [
    "Y aquí que ya lo tenemos en texto, seguiría todo el proceso descrito en el modelo de reconocimiento con el _Personality Insigths_ ."
   ]
  }
 ],
 "metadata": {
  "kernelspec": {
   "display_name": "Python 3",
   "language": "python",
   "name": "python3"
  },
  "language_info": {
   "codemirror_mode": {
    "name": "ipython",
    "version": 3
   },
   "file_extension": ".py",
   "mimetype": "text/x-python",
   "name": "python",
   "nbconvert_exporter": "python",
   "pygments_lexer": "ipython3",
   "version": "3.7.4"
  }
 },
 "nbformat": 4,
 "nbformat_minor": 2
}
